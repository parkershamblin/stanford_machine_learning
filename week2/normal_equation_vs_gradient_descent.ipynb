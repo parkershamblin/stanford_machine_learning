{
 "cells": [
  {
   "cell_type": "markdown",
   "metadata": {},
   "source": [
    "# Normal Equation vs Gradient Descent\n",
    "Implementing what I learned in: https://www.coursera.org/learn/machine-learning/lecture/2DKxQ/normal-equation\n",
    "\n",
    "keynotes:\n",
    "- in order to implement this normal equation, we have to add an extra column to our data set that corresponds to my extra feature, x0, that always takes on the value of 1.\n",
    "- create a *design matrix*\n",
    "- normal equation *does not* require *feature scaling*\n",
    "\n",
    "## Methods Pros & Cons\n",
    "![normal_equation_vs_gradient_descent](https://user-images.githubusercontent.com/53675680/62839330-c16f0a80-bc56-11e9-8571-925173492a15.PNG)\n",
    "\n",
    "\n",
    "Here is an image of a slide from the lecture. We will be using the data on this slide to use normal equation on.\n",
    "![normal_equation_question](https://user-images.githubusercontent.com/53675680/62838518-52d87f80-bc4b-11e9-9d3b-dfb06a0e0902.PNG)"
   ]
  },
  {
   "cell_type": "code",
   "execution_count": 82,
   "metadata": {},
   "outputs": [
    {
     "data": {
      "text/html": [
       "<div>\n",
       "<style scoped>\n",
       "    .dataframe tbody tr th:only-of-type {\n",
       "        vertical-align: middle;\n",
       "    }\n",
       "\n",
       "    .dataframe tbody tr th {\n",
       "        vertical-align: top;\n",
       "    }\n",
       "\n",
       "    .dataframe thead th {\n",
       "        text-align: right;\n",
       "    }\n",
       "</style>\n",
       "<table border=\"1\" class=\"dataframe\">\n",
       "  <thead>\n",
       "    <tr style=\"text-align: right;\">\n",
       "      <th></th>\n",
       "      <th>x0</th>\n",
       "      <th>size</th>\n",
       "      <th>bedrooms</th>\n",
       "      <th>floors</th>\n",
       "      <th>age</th>\n",
       "      <th>price</th>\n",
       "    </tr>\n",
       "  </thead>\n",
       "  <tbody>\n",
       "    <tr>\n",
       "      <th>0</th>\n",
       "      <td>1</td>\n",
       "      <td>2104</td>\n",
       "      <td>5</td>\n",
       "      <td>1</td>\n",
       "      <td>45</td>\n",
       "      <td>460</td>\n",
       "    </tr>\n",
       "    <tr>\n",
       "      <th>1</th>\n",
       "      <td>1</td>\n",
       "      <td>1416</td>\n",
       "      <td>3</td>\n",
       "      <td>2</td>\n",
       "      <td>40</td>\n",
       "      <td>232</td>\n",
       "    </tr>\n",
       "    <tr>\n",
       "      <th>2</th>\n",
       "      <td>1</td>\n",
       "      <td>1534</td>\n",
       "      <td>3</td>\n",
       "      <td>2</td>\n",
       "      <td>30</td>\n",
       "      <td>315</td>\n",
       "    </tr>\n",
       "    <tr>\n",
       "      <th>3</th>\n",
       "      <td>1</td>\n",
       "      <td>852</td>\n",
       "      <td>2</td>\n",
       "      <td>1</td>\n",
       "      <td>36</td>\n",
       "      <td>178</td>\n",
       "    </tr>\n",
       "  </tbody>\n",
       "</table>\n",
       "</div>"
      ],
      "text/plain": [
       "   x0  size  bedrooms  floors  age  price\n",
       "0   1  2104         5       1   45    460\n",
       "1   1  1416         3       2   40    232\n",
       "2   1  1534         3       2   30    315\n",
       "3   1   852         2       1   36    178"
      ]
     },
     "execution_count": 82,
     "metadata": {},
     "output_type": "execute_result"
    }
   ],
   "source": [
    "import numpy as np\n",
    "import pandas as pd\n",
    "\n",
    "df = pd.read_csv(r\"C:\\Users\\Parker\\Documents\\GitHub\\ai_study\\data\\mock_house_data.csv\")\n",
    "df.head()"
   ]
  },
  {
   "cell_type": "code",
   "execution_count": 83,
   "metadata": {},
   "outputs": [
    {
     "data": {
      "text/plain": [
       "array([[   1, 2104,    5,    1,   45],\n",
       "       [   1, 1416,    3,    2,   40],\n",
       "       [   1, 1534,    3,    2,   30],\n",
       "       [   1,  852,    2,    1,   36]], dtype=int64)"
      ]
     },
     "execution_count": 83,
     "metadata": {},
     "output_type": "execute_result"
    }
   ],
   "source": [
    "X = np.array(df[['x0','size', 'bedrooms', 'floors', 'age']])\n",
    "X"
   ]
  },
  {
   "cell_type": "code",
   "execution_count": 84,
   "metadata": {},
   "outputs": [
    {
     "data": {
      "text/plain": [
       "array([460, 232, 315, 178], dtype=int64)"
      ]
     },
     "execution_count": 84,
     "metadata": {},
     "output_type": "execute_result"
    }
   ],
   "source": [
    "y = np.array(df['price'])\n",
    "y"
   ]
  },
  {
   "cell_type": "markdown",
   "metadata": {},
   "source": [
    "Lets now calculate the equation encased in the red box in the picture above."
   ]
  },
  {
   "cell_type": "code",
   "execution_count": 92,
   "metadata": {},
   "outputs": [
    {
     "name": "stdout",
     "output_type": "stream",
     "text": [
      "459.9999999995052\n",
      "231.99999999568865\n",
      "315.0000000030036\n",
      "178.00000000280727\n"
     ]
    }
   ],
   "source": [
    "step1 = np.dot(X.T, X)\n",
    "# we use pinv instead of inv here because our matrix is non-invertable(singular matrix)\n",
    "step2 = np.linalg.pinv(step1)\n",
    "step3 = np.dot(step2, X.T)\n",
    "best_theta = np.dot(step3, y) # if y is m x 1.  If 1xm, then use y.T\n",
    "\n",
    "for index, row in df.iterrows():\n",
    "    print(best_theta[0] + best_theta[1]*row['size'] + best_theta[2]*row['bedrooms']\n",
    "         + best_theta[3]*row['floors'] + best_theta[4]*row['age'])"
   ]
  },
  {
   "cell_type": "markdown",
   "metadata": {},
   "source": [
    "## Conclusion\n",
    "From these results we can see that our predicted prices fit our actual prices quite well. We can conclude that we have found a great model fit for our training set."
   ]
  }
 ],
 "metadata": {
  "kernelspec": {
   "display_name": "Python 3",
   "language": "python",
   "name": "python3"
  },
  "language_info": {
   "codemirror_mode": {
    "name": "ipython",
    "version": 3
   },
   "file_extension": ".py",
   "mimetype": "text/x-python",
   "name": "python",
   "nbconvert_exporter": "python",
   "pygments_lexer": "ipython3",
   "version": "3.7.1"
  }
 },
 "nbformat": 4,
 "nbformat_minor": 2
}
