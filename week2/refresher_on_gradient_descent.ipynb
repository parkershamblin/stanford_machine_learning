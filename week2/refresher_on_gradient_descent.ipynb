{
 "cells": [
  {
   "cell_type": "markdown",
   "metadata": {},
   "source": [
    "Just coming back to the course and going back over some of the material from week 1.\n",
    "\n",
    "\n"
   ]
  },
  {
   "cell_type": "code",
   "execution_count": 43,
   "metadata": {},
   "outputs": [],
   "source": [
    "import pandas as pd\n",
    "import numpy as np\n",
    "\n",
    "df = pd.read_csv(r'C:\\Users\\Parker\\Documents\\GitHub\\ml-notes\\data\\ex1data1.txt', header=None)\n",
    "m = len(df)\n",
    "# insert new column into the dataframe containing all ones (eases calculations)\n",
    "df.insert(0, \"x0\", np.ones(m))"
   ]
  },
  {
   "cell_type": "code",
   "execution_count": 55,
   "metadata": {},
   "outputs": [],
   "source": [
    "X = np.array(df[[\"x0\", 0]])\n",
    "y = np.array(df[1])\n",
    "theta = np.zeros(2)"
   ]
  },
  {
   "cell_type": "code",
   "execution_count": 56,
   "metadata": {},
   "outputs": [
    {
     "data": {
      "text/plain": [
       "32.072733877455676"
      ]
     },
     "execution_count": 56,
     "metadata": {},
     "output_type": "execute_result"
    }
   ],
   "source": [
    "def mean_squared_error(X, y, theta):\n",
    "    return sum(1/(2*m) * np.square(np.dot(X, theta) - y))\n",
    "\n",
    "# mean squared error of predictions with initalized parameter values (theta)\n",
    "mean_squared_error(X, y, theta)"
   ]
  },
  {
   "cell_type": "code",
   "execution_count": 70,
   "metadata": {},
   "outputs": [],
   "source": [
    "def gradient_descent(X, theta, alpha, epochs):\n",
    "    plt.plot(df[0], y, 'o')\n",
    "    \n",
    "    for i in range(epochs):\n",
    "        print(X)\n",
    "        predictions = np.dot(X, theta)\n",
    "        print(predictions)\n",
    "        errors = predictions - y\n",
    "        print(errors)\n",
    "        print(X.T)\n",
    "        theta = theta - alpha * (1/m) * np.dot(X.T, errors)\n",
    "        print(theta)\n",
    "        plt.plot(df[0], predictions)\n",
    "        \n",
    "    return theta"
   ]
  },
  {
   "cell_type": "markdown",
   "metadata": {},
   "source": [
    "## Understanding our descent better with visualizations\n",
    "To help better understand what's going on let's create a simple plot of our actual x and y values along with our inital prediction."
   ]
  },
  {
   "cell_type": "code",
   "execution_count": 71,
   "metadata": {},
   "outputs": [
    {
     "name": "stdout",
     "output_type": "stream",
     "text": [
      "[[ 1.      6.1101]\n",
      " [ 1.      5.5277]\n",
      " [ 1.      8.5186]\n",
      " [ 1.      7.0032]\n",
      " [ 1.      5.8598]\n",
      " [ 1.      8.3829]\n",
      " [ 1.      7.4764]\n",
      " [ 1.      8.5781]\n",
      " [ 1.      6.4862]\n",
      " [ 1.      5.0546]\n",
      " [ 1.      5.7107]\n",
      " [ 1.     14.164 ]\n",
      " [ 1.      5.734 ]\n",
      " [ 1.      8.4084]\n",
      " [ 1.      5.6407]\n",
      " [ 1.      5.3794]\n",
      " [ 1.      6.3654]\n",
      " [ 1.      5.1301]\n",
      " [ 1.      6.4296]\n",
      " [ 1.      7.0708]\n",
      " [ 1.      6.1891]\n",
      " [ 1.     20.27  ]\n",
      " [ 1.      5.4901]\n",
      " [ 1.      6.3261]\n",
      " [ 1.      5.5649]\n",
      " [ 1.     18.945 ]\n",
      " [ 1.     12.828 ]\n",
      " [ 1.     10.957 ]\n",
      " [ 1.     13.176 ]\n",
      " [ 1.     22.203 ]\n",
      " [ 1.      5.2524]\n",
      " [ 1.      6.5894]\n",
      " [ 1.      9.2482]\n",
      " [ 1.      5.8918]\n",
      " [ 1.      8.2111]\n",
      " [ 1.      7.9334]\n",
      " [ 1.      8.0959]\n",
      " [ 1.      5.6063]\n",
      " [ 1.     12.836 ]\n",
      " [ 1.      6.3534]\n",
      " [ 1.      5.4069]\n",
      " [ 1.      6.8825]\n",
      " [ 1.     11.708 ]\n",
      " [ 1.      5.7737]\n",
      " [ 1.      7.8247]\n",
      " [ 1.      7.0931]\n",
      " [ 1.      5.0702]\n",
      " [ 1.      5.8014]\n",
      " [ 1.     11.7   ]\n",
      " [ 1.      5.5416]\n",
      " [ 1.      7.5402]\n",
      " [ 1.      5.3077]\n",
      " [ 1.      7.4239]\n",
      " [ 1.      7.6031]\n",
      " [ 1.      6.3328]\n",
      " [ 1.      6.3589]\n",
      " [ 1.      6.2742]\n",
      " [ 1.      5.6397]\n",
      " [ 1.      9.3102]\n",
      " [ 1.      9.4536]\n",
      " [ 1.      8.8254]\n",
      " [ 1.      5.1793]\n",
      " [ 1.     21.279 ]\n",
      " [ 1.     14.908 ]\n",
      " [ 1.     18.959 ]\n",
      " [ 1.      7.2182]\n",
      " [ 1.      8.2951]\n",
      " [ 1.     10.236 ]\n",
      " [ 1.      5.4994]\n",
      " [ 1.     20.341 ]\n",
      " [ 1.     10.136 ]\n",
      " [ 1.      7.3345]\n",
      " [ 1.      6.0062]\n",
      " [ 1.      7.2259]\n",
      " [ 1.      5.0269]\n",
      " [ 1.      6.5479]\n",
      " [ 1.      7.5386]\n",
      " [ 1.      5.0365]\n",
      " [ 1.     10.274 ]\n",
      " [ 1.      5.1077]\n",
      " [ 1.      5.7292]\n",
      " [ 1.      5.1884]\n",
      " [ 1.      6.3557]\n",
      " [ 1.      9.7687]\n",
      " [ 1.      6.5159]\n",
      " [ 1.      8.5172]\n",
      " [ 1.      9.1802]\n",
      " [ 1.      6.002 ]\n",
      " [ 1.      5.5204]\n",
      " [ 1.      5.0594]\n",
      " [ 1.      5.7077]\n",
      " [ 1.      7.6366]\n",
      " [ 1.      5.8707]\n",
      " [ 1.      5.3054]\n",
      " [ 1.      8.2934]\n",
      " [ 1.     13.394 ]\n",
      " [ 1.      5.4369]]\n",
      "[0. 0. 0. 0. 0. 0. 0. 0. 0. 0. 0. 0. 0. 0. 0. 0. 0. 0. 0. 0. 0. 0. 0. 0.\n",
      " 0. 0. 0. 0. 0. 0. 0. 0. 0. 0. 0. 0. 0. 0. 0. 0. 0. 0. 0. 0. 0. 0. 0. 0.\n",
      " 0. 0. 0. 0. 0. 0. 0. 0. 0. 0. 0. 0. 0. 0. 0. 0. 0. 0. 0. 0. 0. 0. 0. 0.\n",
      " 0. 0. 0. 0. 0. 0. 0. 0. 0. 0. 0. 0. 0. 0. 0. 0. 0. 0. 0. 0. 0. 0. 0. 0.\n",
      " 0.]\n",
      "[-17.592    -9.1302  -13.662   -11.854    -6.8233  -11.886    -4.3483\n",
      " -12.       -6.5987   -3.8166   -3.2522  -15.505    -3.1551   -7.2258\n",
      "  -0.71618  -3.5129   -5.3048   -0.56077  -3.6518   -5.3893   -3.1386\n",
      " -21.767    -4.263    -5.1875   -3.0825  -22.638   -13.501    -7.0467\n",
      " -14.692   -24.147     1.22     -5.9966  -12.134    -1.8495   -6.5426\n",
      "  -4.5623   -4.1164   -3.3928  -10.117    -5.4974   -0.55657  -3.9115\n",
      "  -5.3854   -2.4406   -6.7318   -1.0463   -5.1337   -1.844    -8.0043\n",
      "  -1.0179   -6.7504   -1.8396   -4.2885   -4.9981   -1.4233    1.4211\n",
      "  -2.4756   -4.6042   -3.9624   -5.4141   -5.1694    0.74279 -17.929\n",
      " -12.054   -17.054    -4.8852   -5.7442   -7.7754   -1.0173  -20.992\n",
      "  -6.6799   -4.0259   -1.2784   -3.3411    2.6807   -0.29678  -3.8845\n",
      "  -5.7014   -6.7526   -2.0576   -0.47953  -0.20421  -0.67861  -7.5435\n",
      "  -5.3436   -4.2415   -6.7981   -0.92695  -0.152    -2.8214   -1.8451\n",
      "  -4.2959   -7.2029   -1.9869   -0.14454  -9.0551   -0.61705]\n",
      "[[ 1.      1.      1.      1.      1.      1.      1.      1.      1.\n",
      "   1.      1.      1.      1.      1.      1.      1.      1.      1.\n",
      "   1.      1.      1.      1.      1.      1.      1.      1.      1.\n",
      "   1.      1.      1.      1.      1.      1.      1.      1.      1.\n",
      "   1.      1.      1.      1.      1.      1.      1.      1.      1.\n",
      "   1.      1.      1.      1.      1.      1.      1.      1.      1.\n",
      "   1.      1.      1.      1.      1.      1.      1.      1.      1.\n",
      "   1.      1.      1.      1.      1.      1.      1.      1.      1.\n",
      "   1.      1.      1.      1.      1.      1.      1.      1.      1.\n",
      "   1.      1.      1.      1.      1.      1.      1.      1.      1.\n",
      "   1.      1.      1.      1.      1.      1.      1.    ]\n",
      " [ 6.1101  5.5277  8.5186  7.0032  5.8598  8.3829  7.4764  8.5781  6.4862\n",
      "   5.0546  5.7107 14.164   5.734   8.4084  5.6407  5.3794  6.3654  5.1301\n",
      "   6.4296  7.0708  6.1891 20.27    5.4901  6.3261  5.5649 18.945  12.828\n",
      "  10.957  13.176  22.203   5.2524  6.5894  9.2482  5.8918  8.2111  7.9334\n",
      "   8.0959  5.6063 12.836   6.3534  5.4069  6.8825 11.708   5.7737  7.8247\n",
      "   7.0931  5.0702  5.8014 11.7     5.5416  7.5402  5.3077  7.4239  7.6031\n",
      "   6.3328  6.3589  6.2742  5.6397  9.3102  9.4536  8.8254  5.1793 21.279\n",
      "  14.908  18.959   7.2182  8.2951 10.236   5.4994 20.341  10.136   7.3345\n",
      "   6.0062  7.2259  5.0269  6.5479  7.5386  5.0365 10.274   5.1077  5.7292\n",
      "   5.1884  6.3557  9.7687  6.5159  8.5172  9.1802  6.002   5.5204  5.0594\n",
      "   5.7077  7.6366  5.8707  5.3054  8.2934 13.394   5.4369]]\n",
      "[0.05839135 0.6532885 ]\n"
     ]
    },
    {
     "data": {
      "text/plain": [
       "6.737190464870009"
      ]
     },
     "execution_count": 71,
     "metadata": {},
     "output_type": "execute_result"
    },
    {
     "data": {
      "image/png": "[encoded data removed]",
      "text/plain": [
       "<Figure size 432x288 with 1 Axes>"
      ]
     },
     "metadata": {
      "needs_background": "light"
     },
     "output_type": "display_data"
    }
   ],
   "source": [
    "alpha = 0.01  # learning rate\n",
    "epochs = 1\n",
    "\n",
    "new_theta = gradient_descent(X, theta, alpha, epochs)\n",
    "mean_squared_error(X, y, new_theta)"
   ]
  },
  {
   "cell_type": "markdown",
   "metadata": {},
   "source": [
    "Now that we have a good idea of where we're starting let's go through 5 iterations (epochs) of gradient descent and see how our predictions improve."
   ]
  },
  {
   "cell_type": "code",
   "execution_count": 66,
   "metadata": {},
   "outputs": [
    {
     "data": {
      "text/plain": [
       "5.89009494311733"
      ]
     },
     "execution_count": 66,
     "metadata": {},
     "output_type": "execute_result"
    },
    {
     "data": {
      "image/png": "[encoded data removed]",
      "text/plain": [
       "<Figure size 432x288 with 1 Axes>"
      ]
     },
     "metadata": {
      "needs_background": "light"
     },
     "output_type": "display_data"
    }
   ],
   "source": [
    "epochs = 5\n",
    "new_theta = gradient_descent(X, theta, alpha, epochs)\n",
    "mean_squared_error(X, y, new_theta)"
   ]
  },
  {
   "cell_type": "markdown",
   "metadata": {},
   "source": [
    "It's going to be difficult to make any huge improvements to our predictions due to the nature of the data but let's just run 50 iterations just for fun and to see if anything potentially suprising happens."
   ]
  },
  {
   "cell_type": "code",
   "execution_count": 67,
   "metadata": {},
   "outputs": [
    {
     "data": {
      "text/plain": [
       "5.678292570015293"
      ]
     },
     "execution_count": 67,
     "metadata": {},
     "output_type": "execute_result"
    },
    {
     "data": {
      "image/png": "[encoded data removed]",
      "text/plain": [
       "<Figure size 432x288 with 1 Axes>"
      ]
     },
     "metadata": {
      "needs_background": "light"
     },
     "output_type": "display_data"
    }
   ],
   "source": [
    "epochs = 50\n",
    "new_theta = gradient_descent(X, theta, alpha, epochs)\n",
    "mean_squared_error(X, y, new_theta)"
   ]
  },
  {
   "cell_type": "markdown",
   "metadata": {},
   "source": [
    "Our predictions didn't change much at all which is reflected in the very minute change in the mean squared error of our final prediction. This is also why it's hard to see a lot of new predictions lines because most of them are overlapping one another. Well this is some pretty cool stuff as always and this time I was able to implemenet gradient descent with about 50x less code than I did this first time. Hopefully this type of progress will continue in the future!"
   ]
  }
 ],
 "metadata": {
  "kernelspec": {
   "display_name": "Python 3",
   "language": "python",
   "name": "python3"
  },
  "language_info": {
   "codemirror_mode": {
    "name": "ipython",
    "version": 3
   },
   "file_extension": ".py",
   "mimetype": "text/x-python",
   "name": "python",
   "nbconvert_exporter": "python",
   "pygments_lexer": "ipython3",
   "version": "3.7.1"
  }
 },
 "nbformat": 4,
 "nbformat_minor": 2
}
